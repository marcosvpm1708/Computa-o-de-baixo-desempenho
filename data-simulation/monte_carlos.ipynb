{
 "cells": [
  {
   "cell_type": "code",
   "id": "initial_id",
   "metadata": {
    "collapsed": true,
    "ExecuteTime": {
     "end_time": "2025-05-18T19:21:55.054525Z",
     "start_time": "2025-05-18T19:21:54.349630Z"
    }
   },
   "source": "import pandas as pd\n",
   "outputs": [],
   "execution_count": 2
  },
  {
   "metadata": {
    "ExecuteTime": {
     "end_time": "2025-05-18T22:07:41.865474Z",
     "start_time": "2025-05-18T22:06:50.646958Z"
    }
   },
   "cell_type": "code",
   "source": [
    "base_path = \"../dataframe/BD_Atlas_1991_2024_v1.0_2025.04.14_Consolidado.xlsx\"\n",
    "base_data = pd.read_excel(base_path)\n",
    "base_data.colunms\n"
   ],
   "id": "5e6cb270b20b942d",
   "outputs": [
    {
     "ename": "AttributeError",
     "evalue": "'DataFrame' object has no attribute 'colunms'",
     "output_type": "error",
     "traceback": [
      "\u001B[31m---------------------------------------------------------------------------\u001B[39m",
      "\u001B[31mAttributeError\u001B[39m                            Traceback (most recent call last)",
      "\u001B[32m~\\AppData\\Local\\Temp\\ipykernel_15320\\2400875790.py\u001B[39m in \u001B[36m?\u001B[39m\u001B[34m()\u001B[39m\n\u001B[32m      1\u001B[39m base_path = \u001B[33m\"../dataframe/BD_Atlas_1991_2024_v1.0_2025.04.14_Consolidado.xlsx\"\u001B[39m\n\u001B[32m      2\u001B[39m base_data = pd.read_excel(base_path)\n\u001B[32m----> \u001B[39m\u001B[32m3\u001B[39m base_data.colunms\n\u001B[32m      4\u001B[39m \n",
      "\u001B[32m~\\Documents\\GitHub\\Computa-o-de-baixo-desempenho\\.venv\\Lib\\site-packages\\pandas\\core\\generic.py\u001B[39m in \u001B[36m?\u001B[39m\u001B[34m(self, name)\u001B[39m\n\u001B[32m   6295\u001B[39m             \u001B[38;5;28;01mand\u001B[39;00m name \u001B[38;5;28;01mnot\u001B[39;00m \u001B[38;5;28;01min\u001B[39;00m self._accessors\n\u001B[32m   6296\u001B[39m             \u001B[38;5;28;01mand\u001B[39;00m self._info_axis._can_hold_identifiers_and_holds_name(name)\n\u001B[32m   6297\u001B[39m         ):\n\u001B[32m   6298\u001B[39m             \u001B[38;5;28;01mreturn\u001B[39;00m self[name]\n\u001B[32m-> \u001B[39m\u001B[32m6299\u001B[39m         \u001B[38;5;28;01mreturn\u001B[39;00m object.__getattribute__(self, name)\n",
      "\u001B[31mAttributeError\u001B[39m: 'DataFrame' object has no attribute 'colunms'"
     ]
    }
   ],
   "execution_count": 7
  },
  {
   "metadata": {
    "ExecuteTime": {
     "end_time": "2025-05-18T21:57:33.439229Z",
     "start_time": "2025-05-18T21:56:51.405633Z"
    }
   },
   "cell_type": "code",
   "source": [
    "import pandas as pd\n",
    "import time\n",
    "\n",
    "def tempo_execucao(func):\n",
    "    def wrapper(self, *args, **kwargs):\n",
    "        inicio = time.time()\n",
    "        resultado = func(self, *args, **kwargs)\n",
    "        fim = time.time()\n",
    "        print(f\"Tempo de execução de {func.__name__}: {fim - inicio:.4f} segundos\")\n",
    "        return resultado\n",
    "    return wrapper\n",
    "\n",
    "class base_data():\n",
    "\n",
    "    def __init__(self, base_path : str = \"../dataframe/BD_Atlas_1991_2024_v1.0_2025.04.14_Consolidado.xlsx\") -> pd.DataFrame:\n",
    "        self.base_data = pd.read_excel(base_path)\n",
    "\n",
    "    def main(self):\n",
    "        self._duplicates()\n",
    "        self._null_values()\n",
    "        self._null_values()  # chamada duplicada, possivelmente um erro?\n",
    "        self._schema()\n",
    "        return self.base_data\n",
    "\n",
    "    @tempo_execucao\n",
    "    def _duplicates(self):\n",
    "        self.base_data = self.base_data.drop_duplicates()\n",
    "\n",
    "    @tempo_execucao\n",
    "    def _null_values(self):\n",
    "        self.base_data = self.base_data.fillna(-1)\n",
    "\n",
    "    @tempo_execucao\n",
    "    def _features(self):\n",
    "        trash = ['DH_Descricao', 'DM_Descricao', 'DA_Descricao', 'PEPL_Descricao', 'PEPR_Descricao', 'Setores Censitários', 'Status']\n",
    "        self.base_data = self.base_data.drop(columns=trash)\n",
    "\n",
    "    @tempo_execucao\n",
    "    def _schema(self):\n",
    "        import pandas as pd\n",
    "\n",
    "        df = self.base_data.copy()\n",
    "\n",
    "        schema = {\n",
    "            'Protocolo_S2iD': 'object',\n",
    "            'Nome_Municipio': 'object',\n",
    "            'Sigla_UF': 'object',\n",
    "            'regiao': 'object',\n",
    "            'Data_Registro': 'datetime64[ns]',\n",
    "            'Data_Evento': 'datetime64[ns]',\n",
    "            'Cod_Cobrade': 'int64',\n",
    "            'tipologia': 'object',\n",
    "            'descricao_tipologia': 'object',\n",
    "            'grupo_de_desastre': 'object',\n",
    "            'Cod_IBGE_Mun': 'int64',\n",
    "            'DH_MORTOS': 'int64',\n",
    "            'DH_FERIDOS': 'int64',\n",
    "            'DH_ENFERMOS': 'int64',\n",
    "            'DH_DESABRIGADOS': 'int64',\n",
    "            'DH_DESALOJADOS': 'int64',\n",
    "            'DH_DESAPARECIDOS': 'int64',\n",
    "            'DH_OUTROS AFETADOS': 'int64',\n",
    "            'DH_total_danos_humanos': 'int64',\n",
    "            'DM_Uni Habita Danificadas': 'int64',\n",
    "            'DM_Uni Habita Destruidas': 'int64',\n",
    "            'DM_Uni Habita Valor': 'int64',\n",
    "            'DM_Inst Saúde Danificadas': 'int64',\n",
    "            'DM_Inst Saúde Destruidas': 'int64',\n",
    "            'DM_Inst Saúde Valor': 'int64',\n",
    "            'DM_Inst Ensino Danificadas': 'int64',\n",
    "            'DM_Inst Ensino Destruidas': 'int64',\n",
    "            'DM_Inst Ensino Valor': 'int64',\n",
    "            'DM_Inst Serviços Danificadas': 'int64',\n",
    "            'DM_Inst Serviços Destruidas': 'int64',\n",
    "            'DM_Inst Serviços Valor': 'int64',\n",
    "            'DM_Inst Comuni Danificadas': 'int64',\n",
    "            'DM_Inst Comuni Destruidas': 'int64',\n",
    "            'DM_Inst Comuni Valor': 'int64',\n",
    "            'DM_Obras de Infra Danificadas': 'int64',\n",
    "            'DM_Obras de Infra Destruidas': 'int64',\n",
    "            'DM_Obras de Infra Valor': 'int64',\n",
    "            'DM_total_danos_materiais': 'int64',\n",
    "            'DA_Polui/cont da água': 'object',\n",
    "            'DA_Polui/cont do ar': 'object',\n",
    "            'DA_Polui/cont do solo': 'object',\n",
    "            'DA_Dimi/exauri hídrico': 'object',\n",
    "            \"DA_Incêndi parques/APA's/APP's\": 'object',\n",
    "            'PEPL_Assis_méd e emergên(R$)': 'int64',\n",
    "            'PEPL_Abast de água pot(R$)': 'int64',\n",
    "            'PEPL_sist de esgotos sanit(R$)': 'int64',\n",
    "            'PEPL_Sis limp e rec lixo (R$)': 'int64',\n",
    "            'PEPL_Sis cont pragas (R$)': 'int64',\n",
    "            'PEPL_distrib energia(R$)': 'int64',\n",
    "            'PEPL_Telecomunicações(R$)': 'int64',\n",
    "            'PEPL_Tran loc/reg/l_curso(R$)': 'int64',\n",
    "            'PEPL_Distrib combustíveis(R$)': 'int64',\n",
    "            'PEPL_Segurança pública(R$)': 'int64',\n",
    "            'PEPL_Ensino(R$)': 'int64',\n",
    "            'PEPL_total_publico': 'int64',\n",
    "            'PEPR_Agricultura(R$)': 'int64',\n",
    "            'PEPR_Pecuária(R$)': 'int64',\n",
    "            'PEPR_Indústria(R$)': 'int64',\n",
    "            'PEPR_Comércio(R$)': 'int64',\n",
    "            'PEPR_Serviços(R$)': 'int64',\n",
    "            'PEPR_total_privado': 'int64',\n",
    "            'PE_PLePR': 'int64',\n",
    "        }\n",
    "\n",
    "        missing_cols = [col for col in schema if col not in df.columns]\n",
    "        if missing_cols:\n",
    "            raise ValueError(f\"Colunas ausentes: {missing_cols}\")\n",
    "\n",
    "        unexpected_cols = [col for col in df.columns if col not in schema]\n",
    "        if unexpected_cols:\n",
    "            raise ValueError(f\"Colunas inesperadas: {unexpected_cols}\")\n",
    "\n",
    "        # Converte colunas de data\n",
    "        df['Data_Registro'] = pd.to_datetime(df['Data_Registro'], errors='coerce')\n",
    "        df['Data_Evento'] = pd.to_datetime(df['Data_Evento'], errors='coerce')\n",
    "\n",
    "        schema_no_dates = schema.copy()\n",
    "        schema_no_dates.pop('Data_Registro')\n",
    "        schema_no_dates.pop('Data_Evento')\n",
    "\n",
    "        df = df.astype(schema_no_dates)\n",
    "\n",
    "        self.base_data = df\n",
    "\n",
    "\n",
    "if __name__ == \"__main__\":\n",
    "    df = base_data().main()\n"
   ],
   "id": "6b228f726ef43e7a",
   "outputs": [
    {
     "name": "stdout",
     "output_type": "stream",
     "text": [
      "Tempo de execução de _duplicates: 0.2611 segundos\n",
      "Tempo de execução de _null_values: 0.1261 segundos\n",
      "Tempo de execução de _null_values: 0.1336 segundos\n"
     ]
    },
    {
     "ename": "ValueError",
     "evalue": "Colunas ausentes: ['DH_total_danos_humanos', 'PEPL_distrib energia(R$)', 'PEPL_Telecomunicações(R$)', 'PEPL_Tran loc/reg/l_curso(R$)', 'PEPL_Segurança pública(R$)', 'PEPL_Ensino(R$)', 'PEPR_Agricultura(R$)', 'PEPR_Pecuária(R$)', 'PEPR_Indústria(R$)', 'PEPR_Comércio(R$)', 'PEPR_Serviços(R$)']",
     "output_type": "error",
     "traceback": [
      "\u001B[31m---------------------------------------------------------------------------\u001B[39m",
      "\u001B[31mValueError\u001B[39m                                Traceback (most recent call last)",
      "\u001B[36mCell\u001B[39m\u001B[36m \u001B[39m\u001B[32mIn[2]\u001B[39m\u001B[32m, line 131\u001B[39m\n\u001B[32m    127\u001B[39m         \u001B[38;5;28mself\u001B[39m.base_data = df\n\u001B[32m    130\u001B[39m \u001B[38;5;28;01mif\u001B[39;00m \u001B[34m__name__\u001B[39m == \u001B[33m\"\u001B[39m\u001B[33m__main__\u001B[39m\u001B[33m\"\u001B[39m:\n\u001B[32m--> \u001B[39m\u001B[32m131\u001B[39m     df = \u001B[43mbase_data\u001B[49m\u001B[43m(\u001B[49m\u001B[43m)\u001B[49m\u001B[43m.\u001B[49m\u001B[43mmain\u001B[49m\u001B[43m(\u001B[49m\u001B[43m)\u001B[49m\n",
      "\u001B[36mCell\u001B[39m\u001B[36m \u001B[39m\u001B[32mIn[2]\u001B[39m\u001B[32m, line 22\u001B[39m, in \u001B[36mbase_data.main\u001B[39m\u001B[34m(self)\u001B[39m\n\u001B[32m     20\u001B[39m \u001B[38;5;28mself\u001B[39m._null_values()\n\u001B[32m     21\u001B[39m \u001B[38;5;28mself\u001B[39m._null_values()  \u001B[38;5;66;03m# chamada duplicada, possivelmente um erro?\u001B[39;00m\n\u001B[32m---> \u001B[39m\u001B[32m22\u001B[39m \u001B[38;5;28;43mself\u001B[39;49m\u001B[43m.\u001B[49m\u001B[43m_schema\u001B[49m\u001B[43m(\u001B[49m\u001B[43m)\u001B[49m\n\u001B[32m     23\u001B[39m \u001B[38;5;28;01mreturn\u001B[39;00m \u001B[38;5;28mself\u001B[39m.base_data\n",
      "\u001B[36mCell\u001B[39m\u001B[36m \u001B[39m\u001B[32mIn[2]\u001B[39m\u001B[32m, line 7\u001B[39m, in \u001B[36mtempo_execucao.<locals>.wrapper\u001B[39m\u001B[34m(self, *args, **kwargs)\u001B[39m\n\u001B[32m      5\u001B[39m \u001B[38;5;28;01mdef\u001B[39;00m\u001B[38;5;250m \u001B[39m\u001B[34mwrapper\u001B[39m(\u001B[38;5;28mself\u001B[39m, *args, **kwargs):\n\u001B[32m      6\u001B[39m     inicio = time.time()\n\u001B[32m----> \u001B[39m\u001B[32m7\u001B[39m     resultado = \u001B[43mfunc\u001B[49m\u001B[43m(\u001B[49m\u001B[38;5;28;43mself\u001B[39;49m\u001B[43m,\u001B[49m\u001B[43m \u001B[49m\u001B[43m*\u001B[49m\u001B[43margs\u001B[49m\u001B[43m,\u001B[49m\u001B[43m \u001B[49m\u001B[43m*\u001B[49m\u001B[43m*\u001B[49m\u001B[43mkwargs\u001B[49m\u001B[43m)\u001B[49m\n\u001B[32m      8\u001B[39m     fim = time.time()\n\u001B[32m      9\u001B[39m     \u001B[38;5;28mprint\u001B[39m(\u001B[33mf\u001B[39m\u001B[33m\"\u001B[39m\u001B[33mTempo de execução de \u001B[39m\u001B[38;5;132;01m{\u001B[39;00mfunc.\u001B[34m__name__\u001B[39m\u001B[38;5;132;01m}\u001B[39;00m\u001B[33m: \u001B[39m\u001B[38;5;132;01m{\u001B[39;00mfim\u001B[38;5;250m \u001B[39m-\u001B[38;5;250m \u001B[39minicio\u001B[38;5;132;01m:\u001B[39;00m\u001B[33m.4f\u001B[39m\u001B[38;5;132;01m}\u001B[39;00m\u001B[33m segundos\u001B[39m\u001B[33m\"\u001B[39m)\n",
      "\u001B[36mCell\u001B[39m\u001B[36m \u001B[39m\u001B[32mIn[2]\u001B[39m\u001B[32m, line 111\u001B[39m, in \u001B[36mbase_data._schema\u001B[39m\u001B[34m(self)\u001B[39m\n\u001B[32m    109\u001B[39m missing_cols = [col \u001B[38;5;28;01mfor\u001B[39;00m col \u001B[38;5;129;01min\u001B[39;00m schema \u001B[38;5;28;01mif\u001B[39;00m col \u001B[38;5;129;01mnot\u001B[39;00m \u001B[38;5;129;01min\u001B[39;00m df.columns]\n\u001B[32m    110\u001B[39m \u001B[38;5;28;01mif\u001B[39;00m missing_cols:\n\u001B[32m--> \u001B[39m\u001B[32m111\u001B[39m     \u001B[38;5;28;01mraise\u001B[39;00m \u001B[38;5;167;01mValueError\u001B[39;00m(\u001B[33mf\u001B[39m\u001B[33m\"\u001B[39m\u001B[33mColunas ausentes: \u001B[39m\u001B[38;5;132;01m{\u001B[39;00mmissing_cols\u001B[38;5;132;01m}\u001B[39;00m\u001B[33m\"\u001B[39m)\n\u001B[32m    113\u001B[39m unexpected_cols = [col \u001B[38;5;28;01mfor\u001B[39;00m col \u001B[38;5;129;01min\u001B[39;00m df.columns \u001B[38;5;28;01mif\u001B[39;00m col \u001B[38;5;129;01mnot\u001B[39;00m \u001B[38;5;129;01min\u001B[39;00m schema]\n\u001B[32m    114\u001B[39m \u001B[38;5;28;01mif\u001B[39;00m unexpected_cols:\n",
      "\u001B[31mValueError\u001B[39m: Colunas ausentes: ['DH_total_danos_humanos', 'PEPL_distrib energia(R$)', 'PEPL_Telecomunicações(R$)', 'PEPL_Tran loc/reg/l_curso(R$)', 'PEPL_Segurança pública(R$)', 'PEPL_Ensino(R$)', 'PEPR_Agricultura(R$)', 'PEPR_Pecuária(R$)', 'PEPR_Indústria(R$)', 'PEPR_Comércio(R$)', 'PEPR_Serviços(R$)']"
     ]
    }
   ],
   "execution_count": 2
  },
  {
   "metadata": {
    "ExecuteTime": {
     "end_time": "2025-05-18T21:57:44.824160Z",
     "start_time": "2025-05-18T21:57:44.792927Z"
    }
   },
   "cell_type": "code",
   "source": "df.dtypes",
   "id": "4ec058aadd98954a",
   "outputs": [
    {
     "ename": "NameError",
     "evalue": "name 'df' is not defined",
     "output_type": "error",
     "traceback": [
      "\u001B[31m---------------------------------------------------------------------------\u001B[39m",
      "\u001B[31mNameError\u001B[39m                                 Traceback (most recent call last)",
      "\u001B[36mCell\u001B[39m\u001B[36m \u001B[39m\u001B[32mIn[4]\u001B[39m\u001B[32m, line 1\u001B[39m\n\u001B[32m----> \u001B[39m\u001B[32m1\u001B[39m \u001B[43mdf\u001B[49m.dtypes\n",
      "\u001B[31mNameError\u001B[39m: name 'df' is not defined"
     ]
    }
   ],
   "execution_count": 4
  },
  {
   "metadata": {
    "ExecuteTime": {
     "end_time": "2025-05-18T20:14:55.086727Z",
     "start_time": "2025-05-18T20:14:54.970908Z"
    }
   },
   "cell_type": "code",
   "source": [
    "trash = ['DH_Descricao', 'DM_Descricao', 'DA_Descricao', 'PEPL_Descricao', 'PEPR_Descricao']\n",
    "base_data = base_data.drop(columns=trash)"
   ],
   "id": "71cc27f75335a45b",
   "outputs": [],
   "execution_count": 32
  },
  {
   "metadata": {
    "ExecuteTime": {
     "end_time": "2025-05-18T20:19:14.728133Z",
     "start_time": "2025-05-18T20:19:14.719376Z"
    }
   },
   "cell_type": "code",
   "source": "base_data.dtypes",
   "id": "9860735052469560",
   "outputs": [
    {
     "data": {
      "text/plain": [
       "Protocolo_S2iD         object\n",
       "Nome_Municipio         object\n",
       "Sigla_UF               object\n",
       "regiao                 object\n",
       "Data_Registro          object\n",
       "                        ...  \n",
       "PEPR_Indústria (R$)    object\n",
       "PEPR_Comércio (R$)     object\n",
       "PEPR_Serviços (R$)     object\n",
       "PEPR_total_privado     object\n",
       "PE_PLePR               object\n",
       "Length: 64, dtype: object"
      ]
     },
     "execution_count": 35,
     "metadata": {},
     "output_type": "execute_result"
    }
   ],
   "execution_count": 35
  },
  {
   "metadata": {},
   "cell_type": "markdown",
   "source": "# colunas com dados ausentes;",
   "id": "cb0d149a1e7be38f"
  },
  {
   "metadata": {
    "ExecuteTime": {
     "end_time": "2025-05-18T19:51:07.998820Z",
     "start_time": "2025-05-18T19:51:07.969309Z"
    }
   },
   "cell_type": "code",
   "source": [
    "# colunas com dados ausentes;\n",
    "base_data['Setores Censitários'].value_counts()"
   ],
   "id": "23e9e7655aa164a4",
   "outputs": [
    {
     "data": {
      "text/plain": [
       "Setores Censitários\n",
       "241340905000003                                                                                                                                                                                                                                                                                                                                                                                                                            13\n",
       "150530405000028                                                                                                                                                                                                                                                                                                                                                                                                                            12\n",
       "241340905000009                                                                                                                                                                                                                                                                                                                                                                                                                            11\n",
       "150530405000029                                                                                                                                                                                                                                                                                                                                                                                                                            10\n",
       "312235505000005                                                                                                                                                                                                                                                                                                                                                                                                                             9\n",
       "                                                                                                                                                                                                                                                                                                                                                                                                                                           ..\n",
       "330540615000004                                                                                                                                                                                                                                                                                                                                                                                                                             1\n",
       "261485705000009                                                                                                                                                                                                                                                                                                                                                                                                                             1\n",
       "510385805000001, 510385805000002, 510385805000018, 510385805000017, 510385805000019, 510385805000020, 510385805000005, 510385805000015, 510385805000006                                                                                                                                                                                                                                                                                     1\n",
       "292010610000003, 292010610000010, 292010610000009, 292010610000006, 292010610000004, 292010605000032, 292010605000015, 292010605000017, 292010605000011, 292010605000016, 292010605000012, 292010605000013, 292010605000024, 292010605000023, 292010605000025, 292010605000033, 292010605000021, 292010605000022, 292010605000035, 292010605000036, 292010605000037, 292010605000038, 292010605000019, 292010605000034                      1\n",
       "420580305000028, 420580305000019, 420580305000020, 420580305000016, 420580305000007, 420580305000008, 420580305000023, 420580305000004, 420580305000003, 420580305000022, 420580305000002, 420580305000021, 420580305000006, 420580305000024, 420580305000005, 420580305000001, 420580305000013, 420580305000011, 420580305000010, 420580305000017, 420580305000012, 420580305000009, 420580305000014, 420580305000018, 420580305000029     1\n",
       "Name: count, Length: 20565, dtype: int64"
      ]
     },
     "execution_count": 28,
     "metadata": {},
     "output_type": "execute_result"
    }
   ],
   "execution_count": 28
  },
  {
   "metadata": {
    "ExecuteTime": {
     "end_time": "2025-05-18T19:33:06.560958Z",
     "start_time": "2025-05-18T19:33:06.545556Z"
    }
   },
   "cell_type": "code",
   "source": "base_data['set'].value_counts()",
   "id": "2bf6a9d92e6730a6",
   "outputs": [
    {
     "data": {
      "text/plain": [
       "DH_Descricao\n",
       "População afetada direta e indiretamente pelo desabastecimento de água potável, perdas na agricultura e pecuária.                                                                                                                                                                                                                                                                                                                                                                                                                                                                                                                                                                                                         264\n",
       "Relacionam-se as pessoas residentes na zona rural afetada pela estiagem.                                                                                                                                                                                                                                                                                                                                                                                                                                                                                                                                                                                                                                                  183\n",
       "Os danos humanos (afetados) referem-se à população com dificuldade de acesso à água potável para seu consumo, bem como a alimentos básicos, em consequência das perdas agrícolas.                                                                                                                                                                                                                                                                                                                                                                                                                                                                                                                                         114\n",
       "Considerando as informações provisórias no preenchimento dos Formulários de Identificação dos Desastres (FIDE) em virtude de desastre natural hidrometeorológico de chuvas intensas fomentando um cenário no qual os municípios atingidos estão parcialmente e/ou consubstancialmente submersos, corroborando às previsões de precipitações pluviais contínuas, e sobretudo, face a necessidade da aquisição de recursos imediatos, informo que o relatório de desastres mais detalhado será atualizado em tempo oportuno.                                                                                                                                                                                                 66\n",
       "Não houve.                                                                                                                                                                                                                                                                                                                                                                                                                                                                                                                                                                                                                                                                                                                 61\n",
       "                                                                                                                                                                                                                                                                                                                                                                                                                                                                                                                                                                                                                                                                                                                         ... \n",
       "Dos 118 bairros existentes no município, 51 foram afetados por alguma ocorrência. Quedas de árvores, muros, telhados e alagamentos, foram registrados em diversos pontos do município. Trechos da Rodovia Mário Covas foram interditados por causa da queda de barreiras em alguns pontos. Foram mais de 20.000 moradores afetados direta e indiretamente pelos evento adversos naturais. Alguns residentes nas áreas de encostas do município tiveram suas casas destruídas ou danificadas devido a deslizamentos de terra e alagamentos, com necessidade de desocupação de áreas diversas no município, necessitando da retirada de pessoas para acomodação em abrigos temporários (instalações públicas de ensino).      1\n",
       "Outros : Afetados\\n\\nForam afetadas famílias nos distritos de Conceição de Jacareí (Rua ¿Z¿, Morro do Serafim, Estrada da `Petrobrás¿) ¿ Distrito de Mangaratiba (Parque Bela Vista, Morro Santo Antônio, Morro do Conguinho, Morro do Cristo), Bairro da Praia do Saco (Morro do Moraes, Fortaleza, São Luiz, Rua do Saco, Manoel Gonçalves Neves, Estrada São João Marcos, Rua Projetada A, Rua Peroba, Massaranduba, Jacarandá, Ipê, Travessa João Isidoro, Rua do Atalho, Rua Jasmim, Rua das Flores, Rua dos Lírios) Bairro Ingaíba ¿ (Fazenda Batatal e Fazenda Ingaíba ¿ Distrito Muriquí (Rua Tiradentes, Rua ¿B¿, Rua ¿C¿, Cachoeira I e II) ¿ Distrito de Itacuruçá ¿ (Vila Benedita).                            1\n",
       "Pessoas afetadas com a inundação.                                                                                                                                                                                                                                                                                                                                                                                                                                                                                                                                                                                                                                                                                           1\n",
       "5 menores, incluindo um recém nascido. 7 maiores de idade, sendo 6 do sexo feminino e 7 do sexo masculino.                                                                                                                                                                                                                                                                                                                                                                                                                                                                                                                                                                                                                  1\n",
       "as pessoas atingidas tiveram os telhados de suas residências e muitos prédios da infraestrutura agrícola destelhados, móveis molhados, acessos bloqueados pela queda de árvores, etc. Os levantamentos apontaram 440 pessoas afetadas, 20 desalojados.                                                                                                                                                                                                                                                                                                                                                                                                                                                                      1\n",
       "Name: count, Length: 23287, dtype: int64"
      ]
     },
     "execution_count": 21,
     "metadata": {},
     "output_type": "execute_result"
    }
   ],
   "execution_count": 21
  },
  {
   "metadata": {
    "ExecuteTime": {
     "end_time": "2025-05-18T19:33:35.121709Z",
     "start_time": "2025-05-18T19:33:35.101365Z"
    }
   },
   "cell_type": "code",
   "source": "base_data['DM_Descricao'].value_counts()",
   "id": "d66f97f4620cccb0",
   "outputs": [
    {
     "data": {
      "text/plain": [
       "DM_Descricao\n",
       "NÃO HOUVE\\r\\n                                                                                                                                                                                                                                                                                                                                                                                                                                                                                                                                                                                                                                                                                                      1126\n",
       "Não houve danos materiais.                                                                                                                                                                                                                                                                                                                                                                                                                                                                                                                                                                                                                                                                                          386\n",
       "Não houve.                                                                                                                                                                                                                                                                                                                                                                                                                                                                                                                                                                                                                                                                                                          346\n",
       "NÃO HOUVE                                                                                                                                                                                                                                                                                                                                                                                                                                                                                                                                                                                                                                                                                                           338\n",
       "Não houve danos.                                                                                                                                                                                                                                                                                                                                                                                                                                                                                                                                                                                                                                                                                                    165\n",
       "                                                                                                                                                                                                                                                                                                                                                                                                                                                                                                                                                                                                                                                                                                                   ... \n",
       "De acordo com os laudos da secretaria da cidadania e direitos humanos e departamento de serviços urbanos foi afetado diretamente as residencias tanto na cidade como no interior, provocando inúmeros estragos, devido o advento de fortes chuvas, vendavais e descargas elétricas.                                                                                                                                                                                                                                                                                                                                                                                                                                   1\n",
       "De acordo com o laudo de engenharia, foram avaliados danos em prédios públicos e unidades habitacionais, totalizando um valor de R$ 530.236,08                                                                                                                                                                                                                                                                                                                                                                                                                                                                                                                                                                        1\n",
       "Cerca de 50 unidades habitacionais que foram atingidas e tiveram destelhamento em diversas localidades tanto no perímetro urbano como rural, tendo sido atendidos num primeiro momento com lonas para cobertura provisóriae outros materiais para cobertura (telhas, cumeeiras, pregos, madeiras, etc.) no valor de 18.905,00\\r\\nDestelhamento de parte da Escola Municipal São Luis Gonzaga, localizada na Rua Angelo Silvestri, centro e Escola Joaquim José da Silva Xavier, localizada na Rua Leopoldo Tasca, Centro. R$ 12.000,00\\r\\nPrédio onde funciona o ateliê de costura, danos no telhado, Rua Roseli Fátima Battisti. E Ginásio Municipal Berto Gnoatto, Rua Lucio Cavalli, Centro. R$ 5.000,00\\r\\n       1\n",
       "De acordo com o laudo  de engenharia civil,foram avaliados danos em unidades habitacionais R$ 253.350.00 ,edificações públicas um valor estimado de R$29.150.00 e obras de infraestrutura pública um valor estimado R$ 48.950.00.Totalizando um valor estimado de R$:331.450.00                                                                                                                                                                                                                                                                                                                                                                                                                                       1\n",
       "O Município de Monte Santo, no período entre junho e dezembro de 2023, considerando que todas as fontes de água potável que existem no município foram afetadas pela estiagem, submetendo a população a uma carência hídrica, foi obrigado a utilizar-se de seus recursos próprios, estimado na ordem de R$ 1.000.000,00 para suprir /amenizar tal carência.                                                                                                                                                                                                                                                                                                                                                          1\n",
       "Name: count, Length: 15183, dtype: int64"
      ]
     },
     "execution_count": 22,
     "metadata": {},
     "output_type": "execute_result"
    }
   ],
   "execution_count": 22
  },
  {
   "metadata": {
    "ExecuteTime": {
     "end_time": "2025-05-18T19:34:09.672169Z",
     "start_time": "2025-05-18T19:34:09.652350Z"
    }
   },
   "cell_type": "code",
   "source": "base_data['DA_Descricao'].value_counts()",
   "id": "76a1a67d9b13ceb4",
   "outputs": [
    {
     "data": {
      "text/plain": [
       "DA_Descricao\n",
       "NÃO HOUVE                                                                                                                                                                                                                                                                                                                                                                                                                                                                                                                                                                                                                                                                                                                                                                                                                                                                                                                                                                           217\n",
       "Não houve.                                                                                                                                                                                                                                                                                                                                                                                                                                                                                                                                                                                                                                                                                                                                                                                                                                                                                                                                                                          216\n",
       "Não houve danos ambientais.                                                                                                                                                                                                                                                                                                                                                                                                                                                                                                                                                                                                                                                                                                                                                                                                                                                                                                                                                         186\n",
       "A falta d'água em algumas localidades da zona rural. Os mananciais, poços artesianos e açudes estão abaixo da capacidade, muitos estão exaurindo ou já exauriram.                                                                                                                                                                                                                                                                                                                                                                                                                                                                                                                                                                                                                                                                                                                                                                                                                   173\n",
       "O exaurimento dos recursos hídricos das áreas afetadas atingiram percentuais acima dos 20%, interferindo, diretamente, no número de pessoas afetadas, bem como nos danos e prejuízos na agricultura e pecuária afetadas pela falta de abastecimento.                                                                                                                                                                                                                                                                                                                                                                                                                                                                                                                                                                                                                                                                                                                                167\n",
       "                                                                                                                                                                                                                                                                                                                                                                                                                                                                                                                                                                                                                                                                                                                                                                                                                                                                                                                                                                                   ... \n",
       "NO DIA 26 DE DEZEMBRO DE 2023, POR VOLTA DAS 14H, UM FORTE VENDAVAL AFETOU COMUNIDADES RURAIS E PARTE DA ZONA URBANA DO MUNICÍPIO DE GUIRICEMA, MINAS GERAIS. EM APROXIMADMENTE 30 (TRINTA MINUTOS) DE RAJADAS DE VENTOS E CHUVAS, OCORREU A QUEDA DE 500 (QUINHENTAS ÁRVORES) EM VIAS VICINAIS E NA ZONA URBANA. FORAM ANOTADAS 4 (QUATRO) PESSOAS DESALOJADAS EM FUNÇÃO DE TELHADOS TEREM SIDO DANIFICADOS. FORAM REGISTRADOS 30 (TRINTA) RESIDÊNCIAS COM DANOS EM SEUS TELHADOS, 4 (QUATRO) VEÍCULOS DANIFICADOS, TORRES, POSTES E CABOS DANIFICADOS EM DECORRÊNCIA DO VENDAVAL. A AGRICULTURA FAMILIAR FOI AFETADA RESULTANDO EM DANOS EM PLANTAÇÕES DE BANANA, MILHO, ABÓBORA E DENTRE OUTROS DO HORTIFRÚTI. ESTIMA-SE QUE 3.500 PESSOAS FORAM AFETADAS NAS COMUNIDADES RURAIS E ÁREA DA ZONA URBANA PELA FALTA DE ENERGIA ELÉTRICA DEVIDO ÀS RUPTURAS DE CABOS E QUEDAS DE TORRES SITUADAS NAS PARTES MONTANHOSAS DAS COMUNIDADES. NÃO FORAM REGISTRADOS DANOS AMBIENTAIS.      1\n",
       "De acordo com levantamento feito pela Defesa civil do município, todas as comunidades foram afetadas pela estiagem, totalizando 5884 pessoas.                                                                                                                                                                                                                                                                                                                                                                                                                                                                                                                                                                                                                                                                                                                                                                                                                                         1\n",
       "O percentual da população atingida representa certa de quase 10% da população do município visto que de acordo com o IBGE(2023) a \\r\\npopulação do município representava 9.743 habitantes e o números de pessoas afetadas é de 940 e que necessitam receber água potável \\r\\nem suas residências.                                                                                                                                                                                                                                                                                                                                                                                                                                                                                                                                                                                                                                                                                    1\n",
       "Ouve um prejuízo considerável nas áreas de pastagens das propriedades rurais com as altas temperaturas e estiagem prolongada, os níveis de agua das barragens e reservatórios ja se encontra abaixo da média, a ponto da CESAN responsável pelo abastecimento mudar o local de captção para outra barragem do município. comprometendo directamente o abastecimento à população na cidade na zona rural assentamentos e vilarejo, carros pipas ja se encontra nessas áreas afectadas para o reabastecimento e para garantir que não fiquem sem agua no geral, nem para o consumo.\\r\\nas criações ja com o minímio de comida e ainda se encontra sem agua para beber, com alguns relatos de criadores que ja está havendo morte de animais por conta da sede e do calor severo.\\r\\naumento das temperaturas em nossa região também faz ocorrer algumas queimadas em alguma propriedades da zona rural trazendo prejuízos aos produtores e para agricultura familiar.                   1\n",
       "- Foram causados danos ambientais em uma grande escala de erosão, desmoronamento de terra, destruição da vegetação das áreas de preservação ambiental, inclusive áreas de pastagens.\\n\\n\\tAnexo segue laudo específico dos danos causados.                                                                                                                                                                                                                                                                                                                                                                                                                                                                                                                                                                                                                                                                                                                                            1\n",
       "Name: count, Length: 14862, dtype: int64"
      ]
     },
     "execution_count": 23,
     "metadata": {},
     "output_type": "execute_result"
    }
   ],
   "execution_count": 23
  },
  {
   "metadata": {
    "ExecuteTime": {
     "end_time": "2025-05-18T19:35:13.443886Z",
     "start_time": "2025-05-18T19:35:13.431889Z"
    }
   },
   "cell_type": "code",
   "source": "base_data['DA_Polui/cont da água'].value_counts()",
   "id": "4bb281132e27470c",
   "outputs": [
    {
     "data": {
      "text/plain": [
       "DA_Polui/cont da água\n",
       "MAIS DE 20% DA POPULAÇÃO AFETADA     254\n",
       "DE 0% A 5% DA POPULAÇÃO AFETADA      241\n",
       "MAIS DE 20%                          198\n",
       "DE 0% A 5%                           173\n",
       "DE 5% A 10% DA POPULAÇÃO AFETADA     101\n",
       "DE 10% A 20% DA POPULAÇÃO AFETADA     95\n",
       "DE 5% A 10%                           89\n",
       "DE 10% A 20%                          75\n",
       "Name: count, dtype: int64"
      ]
     },
     "execution_count": 24,
     "metadata": {},
     "output_type": "execute_result"
    }
   ],
   "execution_count": 24
  },
  {
   "metadata": {
    "ExecuteTime": {
     "end_time": "2025-05-18T19:52:17.755534Z",
     "start_time": "2025-05-18T19:52:17.744529Z"
    }
   },
   "cell_type": "code",
   "source": "base_data['Status'].value_counts()",
   "id": "5c6160eeeea99b9d",
   "outputs": [
    {
     "data": {
      "text/plain": [
       "Status\n",
       "Registro                      33514\n",
       "Reconhecido                   31080\n",
       "Não reconhecido                2387\n",
       "Não homologado pelo estado      141\n",
       "Homologado pelo estado          108\n",
       "Name: count, dtype: int64"
      ]
     },
     "execution_count": 30,
     "metadata": {},
     "output_type": "execute_result"
    }
   ],
   "execution_count": 30
  }
 ],
 "metadata": {
  "kernelspec": {
   "display_name": "Python 3",
   "language": "python",
   "name": "python3"
  },
  "language_info": {
   "codemirror_mode": {
    "name": "ipython",
    "version": 2
   },
   "file_extension": ".py",
   "mimetype": "text/x-python",
   "name": "python",
   "nbconvert_exporter": "python",
   "pygments_lexer": "ipython2",
   "version": "2.7.6"
  }
 },
 "nbformat": 4,
 "nbformat_minor": 5
}
